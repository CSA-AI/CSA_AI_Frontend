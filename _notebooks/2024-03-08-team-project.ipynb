{
 "cells": [
  {
   "cell_type": "markdown",
   "metadata": {},
   "source": [
    "---\n",
    "title: Team Project\n",
    "categories: [Lab Notebook]\n",
    "tags: [planning]\n",
    "description: The planning and information of each person in our team\n",
    "toc: True\n",
    "comments: True\n",
    "---"
   ]
  },
  {
   "cell_type": "markdown",
   "metadata": {},
   "source": [
    "| Person | Link |\n",
    "|-|-|\n",
    "| David V | [Link](https://davidvasilev1.github.io/CSAsite/posts/progress-so-far/) |\n",
    "| Alex L | [Link](https://ylu-1258.github.io/YLU_blog/) |\n",
    "| Jishnu S | [Link](https://github.com/JishnuS420/BlogCSA/issues/11#issue-2176397360), [Link](https://jishnus420.github.io/BlogCSA/) |\n",
    "| Ethan T | [Link](https://realethantran.github.io/ethanRepo/2024/03/07/individual-seed_IPYNB_2_.html) |\n",
    "| Ethan Z | [Link](https://dolphinalt.github.io/APCSA-Pages/posts/Individual-Review/) |\n",
    "| Emaad M | [Link](https://emaad-mir.github.io/emaad-github-pages1/c1.4/2024/03/08/Individual-Seed.html), [Link](https://github.com/Emaad-Mir/emaad-github-pages1/issues/14#issue-2174115806) |\n",
    "| Yuri | [Link]() |\n",
    "| Adi N | [Link]() |\n",
    "| Anthony B | [Link]() |\n",
    "| James L | [Link]() |\n",
    "| Tay K | [Link]() |\n",
    "| Krishiv | [Link]() |"
   ]
  }
 ],
 "metadata": {
  "language_info": {
   "name": "python"
  }
 },
 "nbformat": 4,
 "nbformat_minor": 2
}
