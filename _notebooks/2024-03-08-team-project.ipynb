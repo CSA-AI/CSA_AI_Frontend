{
 "cells": [
  {
   "cell_type": "markdown",
   "metadata": {},
   "source": [
    "---\n",
    "title: Team Project\n",
    "categories: [Lab Notebook]\n",
    "tags: [planning]\n",
    "description: The planning and information of each person in our team\n",
    "toc: True\n",
    "comments: True\n",
    "---"
   ]
  },
  {
   "cell_type": "markdown",
   "metadata": {},
   "source": [
    "| Person | Link | Individual | Debugging |\n",
    "|-|-|-|-|\n",
    "| David V | [Link](https://davidvasilev1.github.io/CSAsite/posts/progress-so-far/) | 3.0 | 1.95 |\n",
    "| Alex L | [Link](https://ylu-1258.github.io/YLU_blog/) | 3.0 | 2.0 |\n",
    "| Jishnu S | [Link](https://github.com/JishnuS420/BlogCSA/issues/11#issue-2176397360), [Link](https://jishnus420.github.io/BlogCSA/) | 2.7 | 2.0 |\n",
    "| Ethan T | [Link](https://realethantran.github.io/ethanRepo/2024/03/07/individual-seed_IPYNB_2_.html) | 3.0 | 1.9 |\n",
    "| Ethan Z | [Link](https://dolphinalt.github.io/APCSA-Pages/posts/Individual-Review/) | 2.7 | 2.0 |\n",
    "| Emaad M | [Link](https://emaad-mir.github.io/emaad-github-pages1/c1.4/2024/03/08/Individual-Seed.html), [Link](https://github.com/Emaad-Mir/emaad-github-pages1/issues/14#issue-2174115806) | 3.0 | 1.9 |\n",
    "| Yuri | [Link](https://github.com/yuricoder07/apcsa-blog/issues/6) | 2.4 | 1.1 |\n",
    "| Adi N | [Link](https://firestorm0986.github.io/CSA-blog-site//2024/03/08/individual-review-tri-three_IPYNB_2_.html) |\n",
    "| Anthony B | [Link](https://ant11234.github.io/BazhRepo/2024/03/07/IndividualProgress_IPYNB_2_.html) | 2.7 | 2.0 |\n",
    "| James L | [Link](https://jw95z.github.io/CSA/indivseed) |\n",
    "| Tay K | [Link](https://taykimmy.github.io/CSA-Repository/2024/03/08/Individual-Seed_IPYNB_2_.html) | 3.0 | 1.9 |\n",
    "| Krishiv | [Link]() |"
   ]
  }
 ],
 "metadata": {
  "language_info": {
   "name": "python"
  }
 },
 "nbformat": 4,
 "nbformat_minor": 2
}
