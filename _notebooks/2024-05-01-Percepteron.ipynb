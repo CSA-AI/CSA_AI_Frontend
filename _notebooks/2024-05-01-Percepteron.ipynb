{
 "cells": [
  {
   "cell_type": "markdown",
   "metadata": {},
   "source": [
    "---\n",
    "title: Perceptatron Planning\n",
    "categories: [Lab Notebook]\n",
    "tags: [planning]\n",
    "description: The planning and information of perceptron \n",
    "toc: True\n",
    "comments: True\n",
    "---"
   ]
  },
  {
   "cell_type": "markdown",
   "metadata": {},
   "source": [
    "# What is A Perceptron \n",
    "- Using a perceptron we are trying to get somewhere by training a model to train by hand signals through the CNN, however it is important that we keep progress and track plans here"
   ]
  },
  {
   "cell_type": "markdown",
   "metadata": {},
   "source": [
    "# Problems\n",
    "\n",
    "- Using a perceptron may not be the best becuase it is a very simple training model and through hand signals it may become harder to train."
   ]
  },
  {
   "cell_type": "markdown",
   "metadata": {},
   "source": [
    "## Sample of Perceptron\n",
    "\n",
    "- This Java program implements a perceptron, a basic type of artificial neural network used for binary classification tasks. It trains the perceptron on a small dataset with two input features and corresponding binary labels, adjusting its weights and bias to make predictions and classify new input data based on the learned pattern. Similarly this is how we would use a perceptron to recognize facial signals as a login."
   ]
  },
  {
   "cell_type": "code",
   "execution_count": null,
   "metadata": {
    "vscode": {
     "languageId": "java"
    }
   },
   "outputs": [],
   "source": [
    "import java.util.Arrays;\n",
    "\n",
    "public class Perceptron {\n",
    "    private double[] weights;\n",
    "    private double bias;\n",
    "    private double learningRate;\n",
    "\n",
    "    public Perceptron(int numFeatures, double learningRate) {\n",
    "        this.weights = new double[numFeatures];\n",
    "        this.bias = 0;\n",
    "        this.learningRate = learningRate;\n",
    "        // Initialize weights with small random values or zeros\n",
    "        for (int i = 0; i < numFeatures; i++) {\n",
    "            weights[i] = Math.random() * 0.1;\n",
    "        }\n",
    "    }\n",
    "\n",
    "    public int predict(double[] inputs) {\n",
    "        double weightedSum = dotProduct(inputs, weights) + bias;\n",
    "        return weightedSum > 0 ? 1 : 0;  // Step function activation\n",
    "    }\n",
    "\n",
    "    public void train(double[][] X_train, int[] y_train, int numEpochs) {\n",
    "        for (int epoch = 0; epoch < numEpochs; epoch++) {\n",
    "            for (int i = 0; i < X_train.length; i++) {\n",
    "                double[] inputs = X_train[i];\n",
    "                int target = y_train[i];\n",
    "                int prediction = predict(inputs);\n",
    "                int error = target - prediction;\n",
    "                // Update weights and bias\n",
    "                for (int j = 0; j < weights.length; j++) {\n",
    "                    weights[j] += learningRate * error * inputs[j];\n",
    "                }\n",
    "                bias += learningRate * error;\n",
    "            }\n",
    "        }\n",
    "    }\n",
    "\n",
    "    private double dotProduct(double[] a, double[] b) {\n",
    "        double product = 0;\n",
    "        for (int i = 0; i < a.length; i++) {\n",
    "            product += a[i] * b[i];\n",
    "        }\n",
    "        return product;\n",
    "    }\n",
    "\n",
    "    public static void main(String[] args) {\n",
    "        double[][] X_train = {{0, 0}, {0, 1}, {1, 0}, {1, 1}};\n",
    "        int[] y_train = {0, 0, 0, 1};\n",
    "\n",
    "        Perceptron perceptron = new Perceptron(2, 0.1);\n",
    "        perceptron.train(X_train, y_train, 100);\n",
    "\n",
    "        // Test the trained perceptron\n",
    "        System.out.println(\"Testing predictions:\");\n",
    "        double[][] X_test = {{0, 0}, {0, 1}, {1, 0}, {1, 1}};\n",
    "        for (double[] inputs : X_test) {\n",
    "            int prediction = perceptron.predict(inputs);\n",
    "            System.out.println(\"Inputs: \" + Arrays.toString(inputs) + \" Predicted: \" + prediction);\n",
    "        }\n",
    "    }\n",
    "}\n",
    "\n"
   ]
  }
 ],
 "metadata": {
  "language_info": {
   "name": "python"
  }
 },
 "nbformat": 4,
 "nbformat_minor": 2
}
